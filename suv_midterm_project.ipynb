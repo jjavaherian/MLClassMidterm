{
 "cells": [
  {
   "cell_type": "markdown",
   "metadata": {},
   "source": [
    "# Team # Number_Midterm Project\n",
    "* Change the word Number to your team number."
   ]
  },
  {
   "cell_type": "markdown",
   "metadata": {},
   "source": [
    "# Introduction"
   ]
  },
  {
   "cell_type": "markdown",
   "metadata": {},
   "source": [
    "## Context:\n",
    "* This dataset contains information about people who were able to purchase an SUV based on other factors in their lives.  \n",
    "* In 3-4 sentences state what you will be doing in this project.\n",
    "* Additionally, state which machine learning type you will be using in this project and why.\n"
   ]
  },
  {
   "cell_type": "markdown",
   "metadata": {},
   "source": [
    "## Objective:\n",
    "\n",
    "- What are the factors that enable people to purchase a new SUV? \n",
    "- To predict \"Purchase\" as our dependent or target (y = 'Purchase') variable based on the independent (X) variables"
   ]
  },
  {
   "cell_type": "markdown",
   "metadata": {},
   "source": [
    "## Data Description:\n",
    "\n",
    "* User ID: User's ID (the SUV purchaser)\n",
    "* Gender: User's gender \n",
    "* Age: User's age  \n",
    "* Estimated: User's income\n",
    "* Purchased: Whether the user purchased an SUV or not. (This is the target variable)."
   ]
  },
  {
   "cell_type": "markdown",
   "metadata": {},
   "source": [
    "# Importing Libraries"
   ]
  },
  {
   "cell_type": "code",
   "execution_count": 1,
   "metadata": {},
   "outputs": [],
   "source": [
    "import numpy as np                # for numerical data \n",
    "import pandas as pd               # for data analysis\n",
    "import matplotlib.pyplot as plt   # for data visualization\n",
    "import seaborn as sns             # for statistical plotting \n",
    "import pylab as plot\n",
    "\n",
    "%matplotlib inline               \n",
    "import math\n",
    "\n",
    "from sklearn.impute import SimpleImputer   # for imputing missing values\n",
    "from sklearn.preprocessing import StandardScaler  # for data transformation and data pre-processing befor model-building\n",
    "\n",
    "from sklearn.model_selection import train_test_split # for splitting dataset into training and test sets\n",
    "\n",
    "from sklearn.linear_model import LogisticRegression  # for building logistic regression (classification) model\n",
    "from sklearn.tree import DecisionTreeClassifier      # for building a decision tree model \n",
    "\n",
    "from sklearn import metrics  # for getting model performance scores \n",
    "from sklearn.metrics import f1_score, accuracy_score, recall_score, precision_score  \n",
    "from sklearn.metrics import accuracy_score\n",
    "from sklearn.metrics import classification_report\n",
    "\n",
    "from sklearn.metrics import confusion_matrix  # for creating the confustion matrix \n",
    "from sklearn.metrics import plot_confusion_matrix\n"
   ]
  },
  {
   "cell_type": "code",
   "execution_count": null,
   "metadata": {},
   "outputs": [],
   "source": []
  },
  {
   "cell_type": "code",
   "execution_count": null,
   "metadata": {},
   "outputs": [],
   "source": []
  },
  {
   "cell_type": "code",
   "execution_count": null,
   "metadata": {},
   "outputs": [],
   "source": []
  },
  {
   "cell_type": "code",
   "execution_count": null,
   "metadata": {},
   "outputs": [],
   "source": []
  }
 ],
 "metadata": {
  "kernelspec": {
   "display_name": "Python 3 (ipykernel)",
   "language": "python",
   "name": "python3"
  },
  "language_info": {
   "codemirror_mode": {
    "name": "ipython",
    "version": 3
   },
   "file_extension": ".py",
   "mimetype": "text/x-python",
   "name": "python",
   "nbconvert_exporter": "python",
   "pygments_lexer": "ipython3",
   "version": "3.9.12"
  },
  "toc": {
   "base_numbering": 1,
   "nav_menu": {},
   "number_sections": true,
   "sideBar": true,
   "skip_h1_title": false,
   "title_cell": "Table of Contents",
   "title_sidebar": "Contents",
   "toc_cell": false,
   "toc_position": {},
   "toc_section_display": true,
   "toc_window_display": false
  }
 },
 "nbformat": 4,
 "nbformat_minor": 4
}
